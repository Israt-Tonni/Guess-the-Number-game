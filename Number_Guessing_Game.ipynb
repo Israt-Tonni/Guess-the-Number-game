{
  "nbformat": 4,
  "nbformat_minor": 0,
  "metadata": {
    "colab": {
      "provenance": []
    },
    "kernelspec": {
      "name": "python3",
      "display_name": "Python 3"
    },
    "language_info": {
      "name": "python"
    }
  },
  "cells": [
    {
      "cell_type": "code",
      "execution_count": 1,
      "metadata": {
        "id": "DjNM1_Io1ItW"
      },
      "outputs": [],
      "source": [
        "import random\n",
        "\n",
        "def guess_number():\n",
        "  # Generate a random number between 1 and 100\n",
        "  secret_number = random.randint(1, 100)\n",
        "  print(\"I'm thinking of a number between 1 and 100. Can you guess what it is?\")\n",
        "\n",
        "  # Allow the player to guess up to 7 times\n",
        "  for i in range(1, 8):\n",
        "    guess = int(input(f\"Guess #{i}: \"))\n",
        "\n",
        "    # Check if the guess is correct\n",
        "    if guess == secret_number:\n",
        "      print(f\"Congratulations! You guessed the number in {i} guesses.\")\n",
        "      return\n",
        "\n",
        "    # Give the player a hint if the guess is too high or too low\n",
        "    if guess < secret_number:\n",
        "      print(\"Too low. Guess again.\")\n",
        "    else:\n",
        "      print(\"Too high. Guess again.\")\n",
        "\n",
        "  # If the player runs out of guesses, reveal the secret number\n",
        "  print(f\"Sorry, you didn't guess the number. The number was {secret_number}.\")\n",
        "\n"
      ]
    },
    {
      "cell_type": "code",
      "source": [
        "guess_number()"
      ],
      "metadata": {
        "colab": {
          "base_uri": "https://localhost:8080/"
        },
        "id": "3ajmiNmL1Q9Y",
        "outputId": "e7665631-0d96-4536-9595-820234560076"
      },
      "execution_count": 3,
      "outputs": [
        {
          "output_type": "stream",
          "name": "stdout",
          "text": [
            "I'm thinking of a number between 1 and 100. Can you guess what it is?\n",
            "Guess #1: 1\n",
            "Too low. Guess again.\n",
            "Guess #2: 2\n",
            "Too low. Guess again.\n",
            "Guess #3: 20\n",
            "Too low. Guess again.\n",
            "Guess #4: 30\n",
            "Too low. Guess again.\n",
            "Guess #5: 40\n",
            "Too high. Guess again.\n",
            "Guess #6: 35\n",
            "Too low. Guess again.\n",
            "Guess #7: 38\n",
            "Congratulations! You guessed the number in 7 guesses.\n"
          ]
        }
      ]
    }
  ]
}